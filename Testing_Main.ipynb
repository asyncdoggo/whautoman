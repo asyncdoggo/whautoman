{
 "cells": [
  {
   "cell_type": "markdown",
   "metadata": {},
   "source": [
    "## Library Dependencies"
   ]
  },
  {
   "cell_type": "code",
   "execution_count": 4,
   "metadata": {},
   "outputs": [],
   "source": [
    "# python\n",
    "# coding: utf-8\n",
    "\n",
    "import os\n",
    "import subprocess\n",
    "\n",
    "\n",
    "\n",
    "import webdriver_manager.chrome\n",
    "from selenium.common.exceptions import NoSuchElementException, StaleElementReferenceException,WebDriverException\n",
    "from selenium import webdriver\n",
    "from selenium.webdriver.common.by import By\n",
    "import time\n",
    "from selenium.webdriver.chrome.options import Options\n",
    "from selenium.webdriver.common.keys import Keys\n",
    "from webdriver_manager.chrome import ChromeDriverManager\n",
    "\n",
    "import pandas\n",
    "\n"
   ]
  },
  {
   "cell_type": "markdown",
   "metadata": {},
   "source": [
    "## Setup for Automation\n",
    "    Installing webdriver for automation"
   ]
  },
  {
   "cell_type": "code",
   "execution_count": 5,
   "metadata": {},
   "outputs": [
    {
     "name": "stderr",
     "output_type": "stream",
     "text": [
      "\n",
      "\n",
      "====== WebDriver manager ======\n",
      "Current google-chrome version is 98.0.4758\n",
      "Get LATEST chromedriver version for 98.0.4758 google-chrome\n",
      "Driver [C:\\Users\\Shubham\\.wdm\\drivers\\chromedriver\\win32\\98.0.4758.80\\chromedriver.exe] found in cache\n"
     ]
    }
   ],
   "source": [
    "\n",
    "path = ChromeDriverManager().install()\n",
    "path = path.replace(\"chromedriver.exe\", \"\")\n",
    "os.environ[\"PATH\"] += os.pathsep + path\n",
    "driver = webdriver.Chrome()"
   ]
  },
  {
   "cell_type": "markdown",
   "metadata": {},
   "source": [
    "## Automation Started\n",
    "    Get qr scan done from user"
   ]
  },
  {
   "cell_type": "code",
   "execution_count": 6,
   "metadata": {},
   "outputs": [],
   "source": [
    "driver.get(\"https://web.whatsapp.com/\")\n",
    "\n",
    "flag = 1\n",
    "while flag:\n",
    "    try:\n",
    "        qrcode = driver.find_element(By.CLASS_NAME, \"_2UwZ_\")\n",
    "    except NoSuchElementException:\n",
    "        flag = 0"
   ]
  },
  {
   "cell_type": "markdown",
   "metadata": {},
   "source": [
    "Read the excel file from user "
   ]
  },
  {
   "cell_type": "code",
   "execution_count": 7,
   "metadata": {},
   "outputs": [],
   "source": [
    "df = pandas.DataFrame()\n",
    "file = \"data.xlsx\"\n",
    "data = pandas.read_excel(file,sheet_name=\"Sheet1\")\n",
    "numbers = data[\"Numbers\"].to_list()"
   ]
  },
  {
   "cell_type": "markdown",
   "metadata": {},
   "source": [
    "Utility Functions"
   ]
  },
  {
   "cell_type": "code",
   "execution_count": 8,
   "metadata": {},
   "outputs": [],
   "source": [
    "# check if that element is accessable or not\n",
    "\n",
    "def Is_Accessable_Element(xPath):\n",
    "    flag = 1\n",
    "    while flag:\n",
    "        try:\n",
    "            check = driver.find_element(By.XPATH, xPath)\n",
    "            flag = 0\n",
    "        except NoSuchElementException:\n",
    "            flag = 1\n",
    "\n",
    "    return xPath\n",
    "\n",
    "\n",
    "# Convert the available path list into string\n",
    "def Parse_Paths(Paths):\n",
    "    ans = \"\"\n",
    "\n",
    "    for eachPath in Paths:\n",
    "        \n",
    "        ans = ans + str(eachPath)\n",
    "       \n",
    "        ans = ans + str(\" \")\n",
    "    str(ans)\n",
    "    return ans\n",
    "\n",
    "# Returns the list of all .extension (with absolute path) mention below present in given folder\n",
    "def GetAll_FilePaths(path):\n",
    "    fileName = []\n",
    "\n",
    "    for files in os.listdir(path):\n",
    "        root, ext = os.path.splitext(files)\n",
    "        if ext == \".png\" or ext==\".jpg\" or ext == \".mp3\" or ext == \".gif\" or ext == \"jpeg\":\n",
    "            fileName.append(path + str(\"\\\\\") +files)\n",
    "\n",
    "    return fileName\n"
   ]
  },
  {
   "cell_type": "markdown",
   "metadata": {},
   "source": [
    "Function to send Images and Videos"
   ]
  },
  {
   "cell_type": "code",
   "execution_count": 9,
   "metadata": {},
   "outputs": [],
   "source": [
    "# Function to send images and videos\n",
    "def Send_Images_Videos(FilePath):\n",
    "\n",
    "    # Access the safety pin button\n",
    "    pin = driver.find_element(By.XPATH,Is_Accessable_Element(\"/html/body/div[1]/div[1]/div[1]/div[4]/div[1]/footer/div[1]/div/span[2]/div/div[1]/div[2]\"))\n",
    "    pin.click()\n",
    "\n",
    "    # Access the images and video button\n",
    "    Image_Icon = driver.find_element(By.XPATH,Is_Accessable_Element(\"/html/body/div[1]/div[1]/div[1]/div[4]/div[1]/footer/div[1]/div/span[2]/div/div[1]/div[2]/div/span/div[1]/div/ul/li[1]/button\"))\n",
    "    Image_Icon.click()\n",
    "    \n",
    "\n",
    "    # Get all the images and videos path from the given directory\n",
    "    imgList = GetAll_FilePaths(FilePath)\n",
    "    \n",
    "    # Convert list of path to a single string (because it is required by subprocess)\n",
    "    parsePath = Parse_Paths(imgList)\n",
    "    \n",
    "    \n",
    "    #Using Autoit we will shift window focus to the file explorer to send path of images\n",
    "    time.sleep(1)# THIS SLEEP IS REQUIRED!!!!!!!\n",
    "    subprocess.run(['AutoIt_Script.exe',parsePath],shell=True)# runs .exe autoit file \n",
    "    time.sleep(1)# Don't know whether .exe autoit file will execute parallelly or not\n",
    "\n",
    "\n",
    "    # Access the send button\n",
    "    sendButton = driver.find_element(By.XPATH,Is_Accessable_Element(\"/html/body/div[1]/div[1]/div[1]/div[2]/div[2]/span/div[1]/span/div[1]/div/div[2]/div/div[2]/div[2]/div/div\"))\n",
    "    sendButton.click()\n",
    "    time.sleep(1) # wait for the button to successfully press"
   ]
  },
  {
   "cell_type": "code",
   "execution_count": 10,
   "metadata": {},
   "outputs": [],
   "source": [
    "for eachNumber in numbers:\n",
    "    driver.get(f\"https://web.whatsapp.com/send?phone=91{eachNumber}\")\n",
    "\n",
    "    flag = 0\n",
    "    # wait untill text box appears \n",
    "    flag = 1\n",
    "    number = None\n",
    "\n",
    "\n",
    "\n",
    "    # wait until contact page is loaded\n",
    "    while flag:\n",
    "        try:\n",
    "            number = driver.find_element(By.XPATH, \"/html/body/div[1]/div[1]/div[1]/div[4]/div[1]/header/div[\"\n",
    "                                                        \"2]/div/div/span\")\n",
    "            flag = 0\n",
    "        except NoSuchElementException:\n",
    "            flag = 1\n",
    "\n",
    "\n",
    "\n",
    "    # check if number is wrong\n",
    "    try:\n",
    "        elem = driver.find_element(By.XPATH, \"/html/body/div[1]/div[1]/span[2]/div[1]/span/div[\"\n",
    "                                                \"1]/div/div/div/div/div[2]/div\")\n",
    "        if elem.text == \"OK\":\n",
    "            elem.send_keys(Keys.ENTER)\n",
    "    except NoSuchElementException:\n",
    "        pass\n",
    "\n",
    "\n",
    "\n",
    "    # check if correct number is loaded\n",
    "    try:\n",
    "        numdata = number.get_property(\"title\")\n",
    "    except StaleElementReferenceException:\n",
    "        number = driver.find_element(By.XPATH,\n",
    "                                        \"/html/body/div[1]/div[1]/div[1]/div[4]/div[1]/header/div[2]/div/div/span\")\n",
    "        numdata = number.get_property(\"title\")\n",
    "\n",
    "    \n",
    "    # Access the text box for text messages\n",
    "    text_box = driver.find_element(By.XPATH,Is_Accessable_Element(\"/html/body/div[1]/div[1]/div[1]/div[4]/div[1]/footer/div[1]/div/span[\"\"2]/div/div[2]/div[1]/div/div[2]\"))\n",
    "\n",
    "\n",
    "    # Sends the all images and videos present in folder\n",
    "    imgFolder = \"D:\\PBL_SY_WhatsApp_Automation\\whautoman\"\n",
    "    Send_Images_Videos(imgFolder)\n",
    "    \n",
    "\n",
    "    \n",
    "\n",
    "# Before quit wait for 10 secs\n",
    "# time.sleep(10)  \n",
    "# driver.quit()"
   ]
  }
 ],
 "metadata": {
  "interpreter": {
   "hash": "db4babc297575dd8aeea384fb15c54d72b5de42bb115c7ab87919e2a2388d51a"
  },
  "kernelspec": {
   "display_name": "Python 3.8.10 ('venv': venv)",
   "language": "python",
   "name": "python3"
  },
  "language_info": {
   "codemirror_mode": {
    "name": "ipython",
    "version": 3
   },
   "file_extension": ".py",
   "mimetype": "text/x-python",
   "name": "python",
   "nbconvert_exporter": "python",
   "pygments_lexer": "ipython3",
   "version": "3.8.10"
  },
  "orig_nbformat": 4
 },
 "nbformat": 4,
 "nbformat_minor": 2
}
